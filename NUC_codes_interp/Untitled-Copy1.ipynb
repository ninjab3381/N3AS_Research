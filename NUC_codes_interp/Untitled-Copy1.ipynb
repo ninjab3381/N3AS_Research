{
 "cells": [
  {
   "cell_type": "code",
   "execution_count": 1,
   "id": "54f61d21",
   "metadata": {},
   "outputs": [],
   "source": [
    "from sympy import *\n",
    "from matplotlib import pyplot as plt\n",
    "import numpy as np\n"
   ]
  },
  {
   "cell_type": "code",
   "execution_count": 2,
   "id": "e8197e5d",
   "metadata": {},
   "outputs": [],
   "source": [
    "def lag_weights_roots(n):\n",
    "    x = Symbol(\"x\")\n",
    "    roots = Poly(laguerre(n, x)).all_roots()\n",
    "    x_i = [rt.evalf(20) for rt in roots]\n",
    "    w_i = [(rt / ((n + 1) * laguerre(n + 1, rt)) ** 2).evalf(20) for rt in roots]\n",
    "    return x_i, w_    i\n"
   ]
  },
  {
   "cell_type": "code",
   "execution_count": 7,
   "id": "36248a75",
   "metadata": {},
   "outputs": [
    {
     "name": "stdout",
     "output_type": "stream",
     "text": [
      "([0.26356031971814091020, 1.4134030591065167922, 3.5964257710407220812, 7.0858100058588375569, 12.640800844275782659], [0.52175561058280865248, 0.39866681108317592745, 0.075942449681707595388, 0.0036117586799220484545, 0.000023369972385776227891])\n"
     ]
    }
   ],
   "source": [
    "print(lag_weights_roots(5))"
   ]
  },
  {
   "cell_type": "code",
   "execution_count": 11,
   "id": "c685df00",
   "metadata": {},
   "outputs": [
    {
     "data": {
      "text/plain": [
       "[<matplotlib.lines.Line2D at 0x7f8b3f46e400>]"
      ]
     },
     "execution_count": 11,
     "metadata": {},
     "output_type": "execute_result"
    },
    {
     "data": {
      "image/png": "[encoded data removed]",
      "text/plain": [
       "<Figure size 432x288 with 1 Axes>"
      ]
     },
     "metadata": {
      "needs_background": "light"
     },
     "output_type": "display_data"
    }
   ],
   "source": [
    "plt.plot(lag_weights_roots(5)[0], lag_weights_roots(5)[1])"
   ]
  },
  {
   "cell_type": "code",
   "execution_count": 29,
   "id": "65274322",
   "metadata": {},
   "outputs": [
    {
     "name": "stdout",
     "output_type": "stream",
     "text": [
      "([0.13779347054049243083, 0.72945454950317049816, 1.8083429017403160482, 3.4014336978548995145, 5.5524961400638036324, 8.3301527467644967002, 11.843785837900065565, 16.279257831378102100, 21.996585811980761951, 29.920697012273891560], [0.30844111576502014155, 0.40111992915527355152, 0.21806828761180942159, 0.062087456098677747393, 0.0095015169751811005538, 0.00075300838858753877546, 0.000028259233495995655674, 4.2493139849626863726e-7, 1.8395648239796307809e-9, 9.9118272196090085584e-13])\n"
     ]
    }
   ],
   "source": [
    "print(lag_weights_roots(10))"
   ]
  },
  {
   "cell_type": "code",
   "execution_count": 31,
   "id": "d4da39de",
   "metadata": {},
   "outputs": [
    {
     "name": "stderr",
     "output_type": "stream",
     "text": [
      "\n",
      "KeyboardInterrupt\n",
      "\n"
     ]
    }
   ],
   "source": [
    "print(lag_weights_roots(100))"
   ]
  },
  {
   "cell_type": "code",
   "execution_count": 3,
   "id": "a52067f1",
   "metadata": {},
   "outputs": [],
   "source": [
    "lwr_30 = lag_weights_roots(30)"
   ]
  },
  {
   "cell_type": "code",
   "execution_count": 4,
   "id": "9dac1f0a",
   "metadata": {},
   "outputs": [
    {
     "data": {
      "text/plain": [
       "([0.047407180540804851462,\n",
       "  0.24992391675316022399,\n",
       "  0.61483345439276828461,\n",
       "  1.1431958256661007983,\n",
       "  1.8364545546225722915,\n",
       "  2.6965218745572151958,\n",
       "  3.7258145077795089493,\n",
       "  4.9272937658498824097,\n",
       "  6.3045155909650745228,\n",
       "  7.8616932933702604688,\n",
       "  9.6037759854792620798,\n",
       "  11.536546597956139701,\n",
       "  13.666744693064236295,\n",
       "  16.002221188981066255,\n",
       "  18.552134840143150124,\n",
       "  21.327204321783128928,\n",
       "  24.340035764532693401,\n",
       "  27.605554796780961028,\n",
       "  31.141586701111235818,\n",
       "  34.969652008249069544,\n",
       "  39.116084949067889122,\n",
       "  43.613652908484827807,\n",
       "  48.503986163804200427,\n",
       "  53.841385406507505617,\n",
       "  59.699121859235495477,\n",
       "  66.180617794438489652,\n",
       "  73.441238595559882239,\n",
       "  81.736810506727685722,\n",
       "  91.556466522536838255,\n",
       "  104.15752443105889451],\n",
       " [0.11604408602039325562,\n",
       "  0.22085112475069602168,\n",
       "  0.24139982758787346417,\n",
       "  0.19463676844641672701,\n",
       "  0.12372841596688099223,\n",
       "  0.063678780368988269340,\n",
       "  0.026860475273380519411,\n",
       "  0.0093380708816042351496,\n",
       "  0.0026806968913369005385,\n",
       "  0.00063512912194087764640,\n",
       "  0.00012390745990688661704,\n",
       "  0.000019828788438952961056,\n",
       "  2.5893509291314845837e-6,\n",
       "  2.7409428405360851638e-7,\n",
       "  2.3328311650257961682e-8,\n",
       "  1.5807455747783781037e-9,\n",
       "  8.4274791230570478545e-11,\n",
       "  3.4851612349079771460e-12,\n",
       "  1.0990180597534727279e-13,\n",
       "  2.5883126649592354134e-15,\n",
       "  4.4378380598403008662e-17,\n",
       "  5.3659183082123539536e-19,\n",
       "  4.3939468922917157783e-21,\n",
       "  2.3114097943886493589e-23,\n",
       "  7.2745884982925408323e-26,\n",
       "  1.2391497014482743994e-28,\n",
       "  9.8323750831056357108e-32,\n",
       "  2.8423235534027969144e-35,\n",
       "  1.8786080317495715678e-39,\n",
       "  8.7459804404651875591e-45])"
      ]
     },
     "execution_count": 4,
     "metadata": {},
     "output_type": "execute_result"
    }
   ],
   "source": [
    "lwr_30"
   ]
  },
  {
   "cell_type": "code",
   "execution_count": 30,
   "id": "de04fd1e",
   "metadata": {},
   "outputs": [
    {
     "data": {
      "text/plain": [
       "[0.13779347054049243083,\n",
       " 0.72945454950317049816,\n",
       " 1.8083429017403160482,\n",
       " 3.4014336978548995145,\n",
       " 5.5524961400638036324,\n",
       " 8.3301527467644967002,\n",
       " 11.843785837900065565,\n",
       " 16.279257831378102100,\n",
       " 21.996585811980761951,\n",
       " 29.920697012273891560]"
      ]
     },
     "execution_count": 30,
     "metadata": {},
     "output_type": "execute_result"
    }
   ],
   "source": [
    "lag_weights_roots(10)[0]"
   ]
  },
  {
   "cell_type": "code",
   "execution_count": 12,
   "id": "553d843b",
   "metadata": {},
   "outputs": [],
   "source": [
    "S = [0.386, 0.627, 0.850, 0.966, 1.133, 1.223, 1.375, 1.475, 1.648, 1.791, 1.866, 2.073, 2.156] "
   ]
  },
  {
   "cell_type": "code",
   "execution_count": 26,
   "id": "a2d9f044",
   "metadata": {},
   "outputs": [],
   "source": [
    "E_6 = [32.4, 66.7, 99.5, 115.9, 132.9, 149.3, 166.1, 182.7, 199.5, 222.8, 232.9, 252.9, 262.9]"
   ]
  },
  {
   "cell_type": "code",
   "execution_count": 6,
   "id": "1081a366",
   "metadata": {},
   "outputs": [],
   "source": [
    "T_9 = [0.001, 0.002, 0.003, 0.004, 0.005, 0.006, 0.007, 0.008, 0.009,0.010, 0.011, 0.012,0.013, 0.014, \n",
    "       0.015, 0.016, 0.018, 0.020, 0.025, 0.030, 0.040, 0.050, 0.060, 0.070, 0.080, 0.090, 0.100, 0.110, 0.120, 0.130, \n",
    "       0.140, 0.150, 0.160, 0.180, 0.200, 0.250, 0.300, 0.350, 0.400, 0.450, 0.500, 0.600, 0.700, 0.800, 0.900, 1.000, \n",
    "       1.250, 1.500, 1.750, 2.000, 2.500, 3.000, 3.500, 4.000, 5.000, 6.000, 7.000, 8.000, 9.000, 10.00 ]"
   ]
  },
  {
   "cell_type": "code",
   "execution_count": 28,
   "id": "878112b5",
   "metadata": {},
   "outputs": [
    {
     "data": {
      "text/plain": [
       "array([ 32400.,  66700.,  99500., 115900., 132900., 149300., 166100.,\n",
       "       182700., 199500., 222800., 232900., 252900., 262900.])"
      ]
     },
     "execution_count": 28,
     "metadata": {},
     "output_type": "execute_result"
    }
   ],
   "source": [
    "np.divide(E_6, T_9[0])"
   ]
  },
  {
   "cell_type": "code",
   "execution_count": 8,
   "id": "60211cce",
   "metadata": {},
   "outputs": [
    {
     "data": {
      "text/plain": [
       "60"
      ]
     },
     "execution_count": 8,
     "metadata": {},
     "output_type": "execute_result"
    }
   ],
   "source": [
    "len(T_9)"
   ]
  },
  {
   "cell_type": "code",
   "execution_count": 3,
   "id": "4bba37ca",
   "metadata": {},
   "outputs": [
    {
     "name": "stdout",
     "output_type": "stream",
     "text": [
      "([0.22284660417926068946, 1.1889321016726230307, 2.9927363260593140777, 5.7751435691045105018, 9.8374674183825899177, 15.982873980601701783], [0.45896467394996359357, 0.41700083077212099411, 0.11337338207404497574, 0.010399197453149074899, 0.00026101720281493205948, 8.9854790642962123883e-7])\n"
     ]
    }
   ],
   "source": [
    "print(lag_weights_roots(6))"
   ]
  },
  {
   "cell_type": "code",
   "execution_count": 4,
   "id": "289b0641",
   "metadata": {},
   "outputs": [
    {
     "data": {
      "text/plain": [
       "[0.22284660417926068946,\n",
       " 1.1889321016726230307,\n",
       " 2.9927363260593140777,\n",
       " 5.7751435691045105018,\n",
       " 9.8374674183825899177,\n",
       " 15.982873980601701783]"
      ]
     },
     "execution_count": 4,
     "metadata": {},
     "output_type": "execute_result"
    }
   ],
   "source": [
    "lag_weights_roots(6)[0]"
   ]
  },
  {
   "cell_type": "code",
   "execution_count": 10,
   "id": "31ad5380",
   "metadata": {},
   "outputs": [
    {
     "data": {
      "text/plain": [
       "0.14"
      ]
     },
     "execution_count": 10,
     "metadata": {},
     "output_type": "execute_result"
    }
   ],
   "source": [
    "T_9[30]"
   ]
  },
  {
   "cell_type": "code",
   "execution_count": 13,
   "id": "950a2641",
   "metadata": {},
   "outputs": [
    {
     "data": {
      "text/latex": [
       "$\\displaystyle 2.5788335424897147503$"
      ],
      "text/plain": [
       "2.5788335424897147503"
      ]
     },
     "execution_count": 13,
     "metadata": {},
     "output_type": "execute_result"
    }
   ],
   "source": [
    "T_9[59]*lag_weights_roots(6)[0][2]/11.605"
   ]
  },
  {
   "cell_type": "code",
   "execution_count": null,
   "id": "92ac5fd2",
   "metadata": {},
   "outputs": [],
   "source": []
  }
 ],
 "metadata": {
  "kernelspec": {
   "display_name": "Python 3 (ipykernel)",
   "language": "python",
   "name": "python3"
  },
  "language_info": {
   "codemirror_mode": {
    "name": "ipython",
    "version": 3
   },
   "file_extension": ".py",
   "mimetype": "text/x-python",
   "name": "python",
   "nbconvert_exporter": "python",
   "pygments_lexer": "ipython3",
   "version": "3.8.8"
  }
 },
 "nbformat": 4,
 "nbformat_minor": 5
}
