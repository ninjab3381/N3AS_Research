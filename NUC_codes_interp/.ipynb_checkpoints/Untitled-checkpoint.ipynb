{
 "cells": [
  {
   "cell_type": "code",
   "execution_count": 24,
   "id": "a5b32935",
   "metadata": {},
   "outputs": [],
   "source": [
    "from sympy import *\n",
    "from matplotlib import pyplot as plt\n",
    "import numpy as np\n"
   ]
  },
  {
   "cell_type": "code",
   "execution_count": 6,
   "id": "908c6c4a",
   "metadata": {},
   "outputs": [],
   "source": [
    "def lag_weights_roots(n):\n",
    "    x = Symbol(\"x\")\n",
    "    roots = Poly(laguerre(n, x)).all_roots()\n",
    "    x_i = [rt.evalf(20) for rt in roots]\n",
    "    w_i = [(rt / ((n + 1) * laguerre(n + 1, rt)) ** 2).evalf(20) for rt in roots]\n",
    "    return x_i, w_i\n"
   ]
  },
  {
   "cell_type": "code",
   "execution_count": 7,
   "id": "f665a35d",
   "metadata": {},
   "outputs": [
    {
     "name": "stdout",
     "output_type": "stream",
     "text": [
      "([0.26356031971814091020, 1.4134030591065167922, 3.5964257710407220812, 7.0858100058588375569, 12.640800844275782659], [0.52175561058280865248, 0.39866681108317592745, 0.075942449681707595388, 0.0036117586799220484545, 0.000023369972385776227891])\n"
     ]
    }
   ],
   "source": [
    "print(lag_weights_roots(5))"
   ]
  },
  {
   "cell_type": "code",
   "execution_count": 11,
   "id": "9cf880e1",
   "metadata": {},
   "outputs": [
    {
     "data": {
      "text/plain": [
       "[<matplotlib.lines.Line2D at 0x7f8b3f46e400>]"
      ]
     },
     "execution_count": 11,
     "metadata": {},
     "output_type": "execute_result"
    },
    {
     "data": {
      "image/png": "[encoded data removed]",
      "text/plain": [
       "<Figure size 432x288 with 1 Axes>"
      ]
     },
     "metadata": {
      "needs_background": "light"
     },
     "output_type": "display_data"
    }
   ],
   "source": [
    "plt.plot(lag_weights_roots(5)[0], lag_weights_roots(5)[1])"
   ]
  },
  {
   "cell_type": "code",
   "execution_count": 29,
   "id": "b8b8de13",
   "metadata": {},
   "outputs": [
    {
     "name": "stdout",
     "output_type": "stream",
     "text": [
      "([0.13779347054049243083, 0.72945454950317049816, 1.8083429017403160482, 3.4014336978548995145, 5.5524961400638036324, 8.3301527467644967002, 11.843785837900065565, 16.279257831378102100, 21.996585811980761951, 29.920697012273891560], [0.30844111576502014155, 0.40111992915527355152, 0.21806828761180942159, 0.062087456098677747393, 0.0095015169751811005538, 0.00075300838858753877546, 0.000028259233495995655674, 4.2493139849626863726e-7, 1.8395648239796307809e-9, 9.9118272196090085584e-13])\n"
     ]
    }
   ],
   "source": [
    "print(lag_weights_roots(10))"
   ]
  },
  {
   "cell_type": "code",
   "execution_count": 31,
   "id": "43936f13",
   "metadata": {},
   "outputs": [
    {
     "name": "stderr",
     "output_type": "stream",
     "text": [
      "\n",
      "KeyboardInterrupt\n",
      "\n"
     ]
    }
   ],
   "source": [
    "print(lag_weights_roots(100))"
   ]
  },
  {
   "cell_type": "code",
   "execution_count": 32,
   "id": "620d8646",
   "metadata": {},
   "outputs": [],
   "source": [
    "lwr_100 = lag_weights_roots(100)"
   ]
  },
  {
   "cell_type": "code",
   "execution_count": 33,
   "id": "0de24055",
   "metadata": {},
   "outputs": [
    {
     "data": {
      "text/plain": [
       "[0.014386146995419669464,\n",
       " 0.075803612023357124643,\n",
       " 0.18631410205718717371,\n",
       " 0.34596918099142909081,\n",
       " 0.55481093758091550960,\n",
       " 0.81289128411566884504,\n",
       " 1.1202738350075401486,\n",
       " 1.4770343299238270697,\n",
       " 1.8832608263423947058,\n",
       " 2.3390538496460341718,\n",
       " 2.8445265427553590665,\n",
       " 3.3998048274457119443,\n",
       " 4.0050275817586520175,\n",
       " 4.6603468355689084595,\n",
       " 5.3659279855851170149,\n",
       " 6.1219500308040197891,\n",
       " 6.9286058293761730550,\n",
       " 7.7861023778625174343,\n",
       " 8.6946611139221679892,\n",
       " 9.6545182435550807278,\n",
       " 10.665925094121675551,\n",
       " 11.729148494472225072,\n",
       " 12.844471183641030572,\n",
       " 14.012192249694274649,\n",
       " 15.232627600466697843,\n",
       " 16.506110468081989594,\n",
       " 17.832991949326387430,\n",
       " 19.213641584136066685,\n",
       " 20.648447974668349520,\n",
       " 22.137819447656704407,\n",
       " 23.682184763002376100,\n",
       " 25.281993871834041539,\n",
       " 26.937718727574264944,\n",
       " 28.649854153891292171,\n",
       " 30.418918773790942920,\n",
       " 32.245456004520665842,\n",
       " 34.130035123421516471,\n",
       " 36.073252410379973226,\n",
       " 38.075732373107093191,\n",
       " 40.138129062115545763,\n",
       " 42.261127482984794178,\n",
       " 44.445445114311806077,\n",
       " 46.691833540651539419,\n",
       " 49.001080210772436956,\n",
       " 51.374010332703994521,\n",
       " 53.811488918355660438,\n",
       " 56.314422991961708238,\n",
       " 58.883763978282090294,\n",
       " 61.520510288396142647,\n",
       " 64.225710123101560167,\n",
       " 67.000464516419311597,\n",
       " 69.845930644558374286,\n",
       " 72.763325428974586256,\n",
       " 75.753929465939936193,\n",
       " 78.819091319411472200,\n",
       " 81.960232219060124004,\n",
       " 85.178851211218900200,\n",
       " 88.476530817394611222,\n",
       " 91.854943263049308931,\n",
       " 95.315857348831720607,\n",
       " 98.861146047613527717,\n",
       " 102.49279492391656096,\n",
       " 106.21291148804681621,\n",
       " 110.02373561603091696,\n",
       " 113.92765118897162371,\n",
       " 117.92719913257322684,\n",
       " 122.02509207044162108,\n",
       " 126.22423084475038757,\n",
       " 130.52772320679941327,\n",
       " 134.93890504022740758,\n",
       " 139.46136455424015676,\n",
       " 144.09896997721272416,\n",
       " 148.85590139775824946,\n",
       " 153.73668754797303061,\n",
       " 158.74624851171310443,\n",
       " 163.88994558258723283,\n",
       " 169.17363981000302458,\n",
       " 174.60376118237662671,\n",
       " 180.18739094024569619,\n",
       " 185.93236023966697143,\n",
       " 191.84736937224832912,\n",
       " 197.94213310214325741,\n",
       " 204.22755956703050772,\n",
       " 210.71597286157694337,\n",
       " 217.42139327200148110,\n",
       " 224.35989478887460815,\n",
       " 231.55006802517248422,\n",
       " 239.01362975131492447,\n",
       " 246.77624096724849046,\n",
       " 254.86862925704743028,\n",
       " 263.32816846915789311,\n",
       " 272.20117002409253683,\n",
       " 281.54632828389738880,\n",
       " 291.44013361637710726,\n",
       " 301.98585525163915367,\n",
       " 313.32953400407552434,\n",
       " 325.69126343702652000,\n",
       " 339.43510192344961654,\n",
       " 355.26131188853413247,\n",
       " 374.98411283434267870]"
      ]
     },
     "execution_count": 33,
     "metadata": {},
     "output_type": "execute_result"
    }
   ],
   "source": [
    "lwr_100[0]"
   ]
  },
  {
   "cell_type": "code",
   "execution_count": 30,
   "id": "de813b7e",
   "metadata": {},
   "outputs": [
    {
     "data": {
      "text/plain": [
       "[0.13779347054049243083,\n",
       " 0.72945454950317049816,\n",
       " 1.8083429017403160482,\n",
       " 3.4014336978548995145,\n",
       " 5.5524961400638036324,\n",
       " 8.3301527467644967002,\n",
       " 11.843785837900065565,\n",
       " 16.279257831378102100,\n",
       " 21.996585811980761951,\n",
       " 29.920697012273891560]"
      ]
     },
     "execution_count": 30,
     "metadata": {},
     "output_type": "execute_result"
    }
   ],
   "source": [
    "lag_weights_roots(10)[0]"
   ]
  },
  {
   "cell_type": "code",
   "execution_count": 12,
   "id": "e45594ae",
   "metadata": {},
   "outputs": [],
   "source": [
    "S = [0.386, 0.627, 0.850, 0.966, 1.133, 1.223, 1.375, 1.475, 1.648, 1.791, 1.866, 2.073, 2.156] "
   ]
  },
  {
   "cell_type": "code",
   "execution_count": 26,
   "id": "561b62f6",
   "metadata": {},
   "outputs": [],
   "source": [
    "E_6 = [32.4, 66.7, 99.5, 115.9, 132.9, 149.3, 166.1, 182.7, 199.5, 222.8, 232.9, 252.9, 262.9]"
   ]
  },
  {
   "cell_type": "code",
   "execution_count": 27,
   "id": "aeb5507b",
   "metadata": {},
   "outputs": [],
   "source": [
    "T_9 = [0.001, 0.002, 0.003, 0.004, 0.005, 0.006, 0.007, 0.008, 0.009,0.010, 0.011, 0.012,0.013, 0.014, \n",
    "       0.015, 0.016, 0.018, 0.020, 0.025, 0.030, 0.040, 0.050, 0.060, 0.070, 0.080, 0.090, 0.100, 0.110, 0.120, 0.130, \n",
    "       0.140, 0.150, 0.160, 0.180, 0.200, 0.250, 0.300, 0.350, 0.400, 0.450, 0.500, 0.600, 0.700, 0.800, 0.900, 1.000, \n",
    "       1.250, 1.500, 1.750, 2.000, 2.500, 3.000, 3.500, 4.000, 5.000, 6.000, 7.000, 8.000, 9.000, 10.00 ]"
   ]
  },
  {
   "cell_type": "code",
   "execution_count": null,
   "id": "ab3f9f07",
   "metadata": {},
   "outputs": [],
   "source": []
  },
  {
   "cell_type": "code",
   "execution_count": 28,
   "id": "721c6fdd",
   "metadata": {},
   "outputs": [
    {
     "data": {
      "text/plain": [
       "array([ 32400.,  66700.,  99500., 115900., 132900., 149300., 166100.,\n",
       "       182700., 199500., 222800., 232900., 252900., 262900.])"
      ]
     },
     "execution_count": 28,
     "metadata": {},
     "output_type": "execute_result"
    }
   ],
   "source": [
    "np.divide(E_6, T_9[0])"
   ]
  },
  {
   "cell_type": "code",
   "execution_count": 36,
   "id": "8ae73f41",
   "metadata": {},
   "outputs": [],
   "source": [
    "A_1 = 1.007277 \n",
    "A_0 = 2.01410177811\n",
    "A = (A_0*A_1)/(A_0+A_1)"
   ]
  },
  {
   "cell_type": "code",
   "execution_count": 37,
   "id": "3b0adb47",
   "metadata": {},
   "outputs": [],
   "source": [
    "E_G = (0.98948*(A**0.5))**2"
   ]
  },
  {
   "cell_type": "code",
   "execution_count": 38,
   "id": "d77d0ba9",
   "metadata": {},
   "outputs": [
    {
     "data": {
      "text/plain": [
       "0.6574143758391942"
      ]
     },
     "execution_count": 38,
     "metadata": {},
     "output_type": "execute_result"
    }
   ],
   "source": [
    "E_G"
   ]
  },
  {
   "cell_type": "code",
   "execution_count": 39,
   "id": "a76352d7",
   "metadata": {},
   "outputs": [
    {
     "data": {
      "text/plain": [
       "array([2.71828183, 7.3890561 ])"
      ]
     },
     "execution_count": 39,
     "metadata": {},
     "output_type": "execute_result"
    }
   ],
   "source": [
    "np.exp([1,2])"
   ]
  },
  {
   "cell_type": "code",
   "execution_count": null,
   "id": "237bca16",
   "metadata": {},
   "outputs": [],
   "source": []
  },
  {
   "cell_type": "code",
   "execution_count": 44,
   "id": "1c44e250",
   "metadata": {},
   "outputs": [
    {
     "ename": "TypeError",
     "evalue": "unsupported operand type(s) for /: 'SingletonRegistry' and 'float'",
     "output_type": "error",
     "traceback": [
      "\u001b[0;31m---------------------------------------------------------------------------\u001b[0m",
      "\u001b[0;31mTypeError\u001b[0m                                 Traceback (most recent call last)",
      "Input \u001b[0;32mIn [44]\u001b[0m, in \u001b[0;36m<module>\u001b[0;34m\u001b[0m\n\u001b[0;32m----> 1\u001b[0m sigma \u001b[38;5;241m=\u001b[39m np\u001b[38;5;241m.\u001b[39mmultiply(\u001b[43mnp\u001b[49m\u001b[38;5;241;43m.\u001b[39;49m\u001b[43mdivide\u001b[49m\u001b[43m(\u001b[49m\u001b[43mS\u001b[49m\u001b[43m,\u001b[49m\u001b[43m \u001b[49m\u001b[43mE_6\u001b[49m\u001b[43m)\u001b[49m, np\u001b[38;5;241m.\u001b[39mexp(\u001b[38;5;241m-\u001b[39m\u001b[38;5;241m1\u001b[39m\u001b[38;5;241m*\u001b[39mnp\u001b[38;5;241m.\u001b[39msqrt(np\u001b[38;5;241m.\u001b[39mdivide(E_G, E_6))))\n",
      "\u001b[0;31mTypeError\u001b[0m: unsupported operand type(s) for /: 'SingletonRegistry' and 'float'"
     ]
    }
   ],
   "source": [
    "sigma = np.multiply(np.divide(S, E_6), np.exp(-1*np.sqrt(np.divide(E_G, E_6))))"
   ]
  },
  {
   "cell_type": "code",
   "execution_count": 40,
   "id": "1f30d9b2",
   "metadata": {},
   "outputs": [
    {
     "data": {
      "text/plain": [
       "array([3, 8])"
      ]
     },
     "execution_count": 40,
     "metadata": {},
     "output_type": "execute_result"
    }
   ],
   "source": [
    "np.multiply([1,2], [3,4])"
   ]
  },
  {
   "cell_type": "code",
   "execution_count": 42,
   "id": "71496c28",
   "metadata": {},
   "outputs": [
    {
     "data": {
      "text/plain": [
       "array([5.        , 2.5       , 1.66666667])"
      ]
     },
     "execution_count": 42,
     "metadata": {},
     "output_type": "execute_result"
    }
   ],
   "source": [
    "np.divide(5, [1,2,3])"
   ]
  },
  {
   "cell_type": "code",
   "execution_count": 43,
   "id": "32d62bbf",
   "metadata": {},
   "outputs": [
    {
     "data": {
      "text/plain": [
       "array([1.        , 1.41421356, 1.73205081, 2.        ])"
      ]
     },
     "execution_count": 43,
     "metadata": {},
     "output_type": "execute_result"
    }
   ],
   "source": [
    "np.sqrt([1,2,3,4])"
   ]
  },
  {
   "cell_type": "code",
   "execution_count": null,
   "id": "9f3c71da",
   "metadata": {},
   "outputs": [],
   "source": []
  }
 ],
 "metadata": {
  "kernelspec": {
   "display_name": "Python 3 (ipykernel)",
   "language": "python",
   "name": "python3"
  },
  "language_info": {
   "codemirror_mode": {
    "name": "ipython",
    "version": 3
   },
   "file_extension": ".py",
   "mimetype": "text/x-python",
   "name": "python",
   "nbconvert_exporter": "python",
   "pygments_lexer": "ipython3",
   "version": "3.8.8"
  }
 },
 "nbformat": 4,
 "nbformat_minor": 5
}
